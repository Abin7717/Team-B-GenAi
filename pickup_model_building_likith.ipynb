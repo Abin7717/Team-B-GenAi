{
 "cells": [
  {
   "cell_type": "code",
   "execution_count": 5,
   "metadata": {},
   "outputs": [],
   "source": [
    "import pandas as pd\n",
    "import numpy as np\n",
    "from sklearn.linear_model import Lasso\n",
    "from sklearn.model_selection import train_test_split, GridSearchCV\n",
    "from sklearn.metrics import mean_squared_error, r2_score\n",
    "import matplotlib.pyplot as plt\n",
    "import seaborn as sns\n",
    "from sklearn.preprocessing import StandardScaler, MinMaxScaler, RobustScaler\n",
    "from sklearn.decomposition import PCA"
   ]
  },
  {
   "cell_type": "code",
   "execution_count": 6,
   "metadata": {},
   "outputs": [],
   "source": [
    "pickup_data=pd.read_csv(\"./cleaned_pickup_data.csv\")\n"
   ]
  },
  {
   "cell_type": "code",
   "execution_count": 3,
   "metadata": {},
   "outputs": [],
   "source": [
    "pickup_data.dropna(inplace=True)"
   ]
  },
  {
   "cell_type": "code",
   "execution_count": 4,
   "metadata": {},
   "outputs": [],
   "source": [
    "pickup_data.drop(['order_id', 'courier_id','pickup_month', 'city_encoded', 'aoi_type_encoded','courier_id_encoded'], axis=1, inplace=True)"
   ]
  },
  {
   "cell_type": "code",
   "execution_count": 7,
   "metadata": {},
   "outputs": [],
   "source": [
    "pickup_data['accept_time'] = pd.to_datetime(pickup_data['accept_time'], format='%Y-%m-%d %H:%M:%S')\n",
    "pickup_data['accept_gps_time'] = pd.to_datetime(pickup_data['accept_gps_time'], format='%Y-%m-%d %H:%M:%S')\n",
    "pickup_data['pickup_time'] = pd.to_datetime(pickup_data['pickup_time'], format='%Y-%m-%d %H:%M:%S')\n",
    "pickup_data['pickup_gps_time'] = pd.to_datetime(pickup_data['pickup_gps_time'], format='%Y-%m-%d %H:%M:%S')\n",
    "\n",
    "pickup_data['eta'] = pd.to_timedelta(pickup_data['eta']).dt.total_seconds()"
   ]
  },
  {
   "cell_type": "code",
   "execution_count": 8,
   "metadata": {},
   "outputs": [],
   "source": [
    "pickup_data['time_window_start'] = pd.to_datetime(pickup_data['time_window_start'], format='%Y-%m-%d %H:%M:%S')\n",
    "pickup_data['time_window_end'] = pd.to_datetime(pickup_data['time_window_end'], format='%Y-%m-%d %H:%M:%S')"
   ]
  },
  {
   "cell_type": "code",
   "execution_count": 9,
   "metadata": {},
   "outputs": [],
   "source": [
    "pickup_data['accept_time_day'] = pickup_data['accept_time'].dt.day\n",
    "pickup_data['accept_time_month'] = pickup_data['accept_time'].dt.month\n",
    "pickup_data['accept_time_hour'] = pickup_data['accept_time'].dt.hour\n",
    "\n",
    "pickup_data['accept_gps_time_day'] = pickup_data['accept_gps_time'].dt.day\n",
    "pickup_data['accept_gps_time_month'] = pickup_data['accept_gps_time'].dt.month\n",
    "pickup_data['accept_gps_time_hour'] = pickup_data['accept_gps_time'].dt.hour\n",
    "\n",
    "pickup_data['pickup_time_day'] = pickup_data['pickup_time'].dt.day\n",
    "pickup_data['pickup_time_month'] = pickup_data['pickup_time'].dt.month\n",
    "pickup_data['pickup_time_hour'] = pickup_data['pickup_time'].dt.hour\n",
    "\n",
    "pickup_data['pickup_gps_time_day'] = pickup_data['pickup_gps_time'].dt.day\n",
    "pickup_data['pickup_gps_time_month'] = pickup_data['pickup_gps_time'].dt.month\n",
    "pickup_data['pickup_gps_time_hour'] = pickup_data['pickup_gps_time'].dt.hour\n",
    "\n",
    "pickup_data['time_window_start_day'] = pickup_data['time_window_start'].dt.day\n",
    "pickup_data['time_window_start_month'] = pickup_data['time_window_start'].dt.month\n",
    "pickup_data['time_window_start_hour'] = pickup_data['time_window_start'].dt.hour\n",
    "\n",
    "pickup_data['time_window_end_day'] = pickup_data['time_window_end'].dt.day\n",
    "pickup_data['time_window_end_month'] = pickup_data['time_window_end'].dt.month\n",
    "pickup_data['time_window_end_hour'] = pickup_data['time_window_end'].dt.hour"
   ]
  },
  {
   "cell_type": "code",
   "execution_count": 10,
   "metadata": {},
   "outputs": [],
   "source": [
    "for col in pickup_data.select_dtypes(include=['int64', 'int32']).columns:\n",
    "    pickup_data[col] = np.log1p(pickup_data[col])"
   ]
  },
  {
   "cell_type": "code",
   "execution_count": 11,
   "metadata": {},
   "outputs": [],
   "source": [
    "len(pickup_data)\n",
    "pickup_data.drop(['accept_time', 'accept_gps_time', 'pickup_time', 'pickup_gps_time', 'time_window_start', 'time_window_end'], axis=1, inplace=True)\n"
   ]
  },
  {
   "cell_type": "code",
   "execution_count": 12,
   "metadata": {},
   "outputs": [],
   "source": [
    "pickup_num_feat = [col for col in pickup_data.columns if pickup_data[col].dtype != 'object']"
   ]
  },
  {
   "cell_type": "code",
   "execution_count": 13,
   "metadata": {},
   "outputs": [],
   "source": [
    "from sklearn.preprocessing import StandardScaler, MinMaxScaler, RobustScaler\n",
    "scaler = StandardScaler()\n",
    "\n",
    "# Apply transformation to the numerical features\n",
    "pickup_data[pickup_num_feat] = scaler.fit_transform(pickup_data[pickup_num_feat])"
   ]
  },
  {
   "cell_type": "code",
   "execution_count": 14,
   "metadata": {},
   "outputs": [],
   "source": [
    "from sklearn.preprocessing import LabelEncoder\n",
    "le = LabelEncoder()\n",
    "pickup_data['city'] = le.fit_transform(pickup_data['city'])"
   ]
  },
  {
   "cell_type": "code",
   "execution_count": 15,
   "metadata": {},
   "outputs": [],
   "source": [
    "from sklearn.model_selection import train_test_split\n",
    "X = pickup_data.drop(['eta'], axis=1)\n",
    "y= pickup_data['eta']\n",
    "X_train, X_test, y_train, y_test = train_test_split(X, y, test_size=0.2, random_state=42)"
   ]
  },
  {
   "cell_type": "code",
   "execution_count": null,
   "metadata": {},
   "outputs": [
    {
     "name": "stdout",
     "output_type": "stream",
     "text": [
      "----- Lasso Regression -----\n",
      "Mean Squared Error: 0.9890172736953925\n",
      "R2 Score: -3.5175142021337535e-07\n",
      "Cross Validation Score: [-1.87917609e-06 -1.91144350e-06 -3.22708408e-07 -4.06879882e-07\n",
      " -2.26874430e-09]\n",
      "Average CV Score: -9.044953249492949e-07\n",
      "\n",
      "----- Random Forest Regressor -----\n"
     ]
    }
   ],
   "source": [
    "from sklearn.linear_model import Lasso\n",
    "from sklearn.ensemble import RandomForestRegressor\n",
    "from sklearn.metrics import mean_squared_error, r2_score\n",
    "from sklearn.model_selection import cross_val_score\n",
    "\n",
    "# ----------- Lasso Regression -----------\n",
    "print(\"----- Lasso Regression -----\")\n",
    "lasso_model = Lasso(alpha=1.0)\n",
    "lasso_model.fit(X_train, y_train)\n",
    "y_lasso_pred = lasso_model.predict(X_test)\n",
    "\n",
    "lasso_mse = mean_squared_error(y_test, y_lasso_pred)\n",
    "lasso_r2 = r2_score(y_test, y_lasso_pred)\n",
    "lasso_cv = cross_val_score(lasso_model, X_train, y_train, cv=5)\n",
    "\n",
    "print(\"Mean Squared Error:\", lasso_mse)\n",
    "print(\"R2 Score:\", lasso_r2)\n",
    "print(\"Cross Validation Score:\", lasso_cv)\n",
    "print(\"Average CV Score:\", lasso_cv.mean())\n",
    "\n",
    "# ----------- Random Forest Regressor -----------\n",
    "print(\"\\n----- Random Forest Regressor -----\")\n",
    "rf_model = RandomForestRegressor(n_estimators=10, random_state=42,n_jobs=-1)\n",
    "rf_model.fit(X_train, y_train)\n",
    "y_rf_pred = rf_model.predict(X_test)\n",
    "\n",
    "rf_mse = mean_squared_error(y_test, y_rf_pred)\n",
    "rf_r2 = r2_score(y_test, y_rf_pred)\n",
    "rf_cv = cross_val_score(rf_model, X_train, y_train, cv=5)\n",
    "\n",
    "print(\"Mean Squared Error:\", rf_mse)\n",
    "print(\"R2 Score:\", rf_r2)\n",
    "print(\"Cross Validation Score:\", rf_cv)\n",
    "print(\"Average CV Score:\", rf_cv.mean())\n"
   ]
  },
  {
   "cell_type": "code",
   "execution_count": null,
   "metadata": {},
   "outputs": [],
   "source": []
  }
 ],
 "metadata": {
  "kernelspec": {
   "display_name": ".venv",
   "language": "python",
   "name": "python3"
  },
  "language_info": {
   "codemirror_mode": {
    "name": "ipython",
    "version": 3
   },
   "file_extension": ".py",
   "mimetype": "text/x-python",
   "name": "python",
   "nbconvert_exporter": "python",
   "pygments_lexer": "ipython3",
   "version": "3.12.8"
  }
 },
 "nbformat": 4,
 "nbformat_minor": 2
}
